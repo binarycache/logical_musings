{
 "cells": [
  {
   "cell_type": "markdown",
   "metadata": {},
   "source": [
    "# Depression and Reward Learning\n",
    "> When you don't want rewards!\n",
    "- toc: false\n",
    "- branch: master\n",
    "- badges: False\n",
    "- comments: true\n",
    "- categories: [Depression]"
   ]
  },
  {
   "cell_type": "markdown",
   "metadata": {},
   "source": [
    "According to the APA [[1]](https://www.psychiatry.org/patients-families/depression/what-is-depression), Depression (major depressive disorder) is a common and serious medical illness that negatively affects how you feel, the way you think and how you act . For a more detailed and comprehensive understanding of the basics of depression, please refer to my post **[\"What is Depression\"](https://binarycache.github.io/logical_musings/depression/2020/08/29/Deression.html)** which dives into different aspects of Depression ranging from behavioural to cognitive to computational aspects of related neuroscience.\n",
    "\n",
    "In this post, I will specifically discuss Anhedonia which is defiend as the lack of reactivity to pleasurable stimuli, and is a cardinal feature of depression that has received renewed interest as a potential endophenotype (characteristic not easily observed on the surface but is responsible for the disease) of this debilitating disease. It can therefore provide etiological insights in the diagnosis and prognosis of Depression."
   ]
  },
  {
   "cell_type": "code",
   "execution_count": null,
   "metadata": {},
   "outputs": [],
   "source": []
  }
 ],
 "metadata": {
  "kernelspec": {
   "display_name": "Python 3",
   "language": "python",
   "name": "python3"
  },
  "language_info": {
   "codemirror_mode": {
    "name": "ipython",
    "version": 3
   },
   "file_extension": ".py",
   "mimetype": "text/x-python",
   "name": "python",
   "nbconvert_exporter": "python",
   "pygments_lexer": "ipython3",
   "version": "3.7.4"
  }
 },
 "nbformat": 4,
 "nbformat_minor": 4
}
