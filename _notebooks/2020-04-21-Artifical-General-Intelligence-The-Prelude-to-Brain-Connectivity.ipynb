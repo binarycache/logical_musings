{
 "cells": [
  {
   "cell_type": "markdown",
   "metadata": {},
   "source": [
    "# Artificial General Intelligence\n",
    "> The Prelude to Brain Connectivity\n",
    "- toc: false\n",
    "- branch: master\n",
    "- badges: False\n",
    "- comments: true\n",
    "- categories: [Brain Connectivity]"
   ]
  },
  {
   "cell_type": "markdown",
   "metadata": {},
   "source": [
    "This is a series of blog posts which will explain functional Brain Connectivity i.e. the study of statiscally significant temporal connections in anatomically segregated brain regions which are activated during a task. Don't worry if you didn't get any of the above. I will be explaining everything in a series of blog posts starting with the motivation behind selecting the topic. The motivation (atleast for me) is what is generally known as \"Artifical General Intelligence (AGI)\".\n",
    "\n",
    "Though explaining it deserves a series of blog posts in itself, for now, I am leaving it for the future. In this post, I will try to explain AGI as a pre-cursor to Brain Connectivity and how neuroscience inspired AI is the need of the hour to achieve AGI.\n",
    "\n",
    "Without much ado, let's begin!\n",
    "\n",
    "AGI is the holy grail of today's AI research. This is the pen-ultimate goal of achieving human-like intelligence, the ultimate goal being development of sentient beings i.e. Humanoids with Consciousness. Normally, research in AI is divided into two parts known as Strong AI and Weak AI. Strong AI refers to a system which has the capacity to learn like humans do while Weak AI refers to a machine which is really good at performing a single task. The most amazing attribute of human intelligence is it's robustness i.e. the ability to learn diverse things with  very limited number of training examples. For instance you can learn to identify cats and dogs after seeing one or two examples of each only. Even a baby learn so many things and so quickly, that it seems impossible for our present artificial machines to replicate that. Speaking of the present capabilities of AI, one begins to wonder that we are not far away from acheiving the goal. The famous **[Ray Kurtzweil](href=(https://en.wikipedia.org/wiki/Ray_Kurzweil)** argued that the **[Singularity](https://en.wikipedia.org/wiki/Technological_singularity)** will be achieved by 2045. \n",
    "\n",
    "Having said that, many people opine that *Deep Learning* is the tool we were missing and now that it has matured to some incredible results, it will be the vehicle which takes us to the Singularity. Others argue that Deep Learning is not actually the hail mary of the technologies and lacks much of what is needed to simulate true intelligence.\n",
    "\n",
    "**[Gary Marcus](https://en.wikipedia.org/wiki/Gary_Marcus)** is one of the leading critique of Deep Learning and has been long advocating what **[Yoshua Bengio](https://en.wikipedia.org/wiki/Yoshua_Bengio)** said recently which is and I quote \"we need to be able to extend deep learning to do things like reasoning, learning causality, and exploring the world in order to learn and acquire information \" . You can find more details [here](https://medium.com/@GaryMarcus/the-deepest-problem-with-deep-learning-91c5991f5695). Similarly **[Andrew Ng](https://hbr.org/2016/11/what-artificial-intelligence-can-and-cant-do-right-now)** argued that AI at present is nowhere near ready to take over the world and such claims are no more than science fiction. In the current scenario, it is difficult to say whether we will be able to extend Deep Learning to such an extent where it can realize AGI given that it is more or less a statistical exercise and does not make use of or generate a world model to develop an understading around it which we humans are able to do effortlessly.\n",
    "\n",
    "Hence, the question is *which* is the best technology to realize AGI in machines. The answer is we don't know and the last resort for us petty humans is imitation. Remember we are trying to achieve human intelligence and the tool that humans use for doing that is ***the brain***. Yes, the below represented blob of around 3 pounds and 15cm length which somehow is able to achieve what arguably a collection of best *brains* in the world don't seem to understand.\n",
    "    \n",
    "   <img src=\"./images/Brain_Connectivity/Cerebrum.jpg\" width=50% height=50% >\n",
    "    \n",
    "But imitation doesn't always guarantee replication as was argued by **[Yann LeCunn](http://yann.lecun.com/)** in one of his talks. He said that the brain is an existential proof of intelligence just like birds are for heavier-than-air flight. The Avion III, was a primitive steam-powered aircraft built by Clément Ader and was heavily inspired by nature (bats in particular) with articulated wings, however the vehicle was unable to fly and research on it was stopped in 1898 by the French Government. The first flying machine was built by the Wright brothers instead using principles of aerodynamics. It didn't mean they didn't study bird's flight. They spent a great deal of time understanding the birds' flight.\n",
    " \n",
    "In 2017, **[Demis Hassabis](https://en.wikipedia.org/wiki/Demis_Hassabis)** and team wrote \"Neuroscience inspired AI\" which establishes the connection between achieving AGI inspired by Neuroscience. They mentioned two-fold benefits of examining biological intelligence.\n",
    "    - Neuroscience provides rich source of information for new types of algorithms and infrastructure independent of and complementary to current     mathematical approaches\n",
    "    - Neuroscience can provide validation of already existing AI techniques.\n",
    "    \n",
    "Note that taking inspiration for developing algorithms and infrastructure is different than plainly mimicking the brain or reverse-engineering the circuitory which is also being tried in projects like [Blue Brain Project](https://www.epfl.ch/research/domains/bluebrain/) or [Neuromorphic Computing](https://en.wikipedia.org/wiki/Neuromorphic_engineering). Demis et al. illustrated that some of the recent breakthroughs in AI are in fact closely associated with neuroscientific considerations. Some of the brain functions that the AI models mimic are Attention, Episodic Memory, Continual Learning, Imagination & Planning and Inference. The following figure illustrates some of the parallels between latest AI systems and Neural Models.\n",
    "\n",
    "  <img src=\"./images/Brain_Connectivity/screenshot.png\"  width=50% height=50% >\n",
    "  \n",
    "                              *Parallels Between AI systems and Neural Models of Behavior* \n",
    "    \n",
    "So to sum up, we need to get inspiration from brain and build our own frameworks exploiting the existing mathematical models of optimality and the cognitive models of intelligence which enables us to generalize to unforeseen events. In order to do that we must first understand how the brain works. Given the amazing technological advancement seen in the fields of Physics, Maths, Biology and Engineering, it's surprising that we don't know much about how our own brain works. However, things are changing fast and brain imaging technologies like *[EEG](https://en.wikipedia.org/wiki/Electroencephalography),[fMRI](https://en.wikipedia.org/wiki/Functional_magnetic_resonance_imaging), [PET](https://en.wikipedia.org/wiki/Positron_emission_tomography)* have enabled us to take a peek inside the magnificient and incredible working of brain. \n",
    "    \n",
    "One of the techniques to get some insights on how brain works is to map the different brain areas activated by a particular behavior/task. For example Amygdala is responsible for controlling our emotions and Hippocampus is responsible for memories. And recently, there's been a great increased interest in augmenting these types of analysis with connectivity studies. This study seek to describe how brain regions interact with one another, and how these interactions depend on experimental conditions and behavioral measures. The functional organization of the brain is characterized by segregation and integration of information being processed. Brain connectivity is thus crucial to elucidating how neurons and neural networks process information. \n",
    "    \n",
    "Brain Connectivity studies can help us in understanding how different regions of the brain communicate with each other and more importantly, what this connection or the lack thereof represent. For example brain connectivity can be used to diagnose diseases like schizophrenia, autism, and clinical depression. Both healthy and diseased brains may be mapped to study memory, learning, aging, and drug effects, following which a classifier using Deep Learning/ Machine Learning techniques can be used to build a diagnostic tool. It may also be crucial to understanding traumatic brain injuries (as in the case of Phineas Gage) and improving brain injury treatment.\n",
    "\n",
    "With this very primitive definition and a detailed motivation, let's move on to the second part of the series [Introduction to Brain Connectivity] which will cover what is brain connectivity, different types of brain connecitivity and more importantly how to code things to analyze the brain connectivity data.\n",
    "  "
   ]
  },
  {
   "cell_type": "code",
   "execution_count": null,
   "metadata": {},
   "outputs": [],
   "source": []
  }
 ],
 "metadata": {
  "kernelspec": {
   "display_name": "Python 3",
   "language": "python",
   "name": "python3"
  },
  "language_info": {
   "codemirror_mode": {
    "name": "ipython",
    "version": 3
   },
   "file_extension": ".py",
   "mimetype": "text/x-python",
   "name": "python",
   "nbconvert_exporter": "python",
   "pygments_lexer": "ipython3",
   "version": "3.6.9"
  }
 },
 "nbformat": 4,
 "nbformat_minor": 4
}
